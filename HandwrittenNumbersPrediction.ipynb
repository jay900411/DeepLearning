{
 "cells": [
  {
   "cell_type": "code",
   "execution_count": 5,
   "id": "118b2d3d",
   "metadata": {},
   "outputs": [],
   "source": [
    "from keras.models import load_model\n",
    "import numpy as np"
   ]
  },
  {
   "cell_type": "code",
   "execution_count": null,
   "id": "f9a0402b",
   "metadata": {},
   "outputs": [],
   "source": [
    "def show_images_labels_predictions(images, labels, predictions, start_id, num = 10):\n",
    "    plt.gcf().set_size_inches(12, 14)\n",
    "    if num > 25:num = 25\n",
    "    for i in range(0, num):\n",
    "        ax=plt.subplot(5,5, 1+i)\n",
    "        #顯示黑白圖片\n",
    "        ax.imshow(images[start_id], cmap='binary')\n",
    "\n",
    "        # 有 AI 預測結果資料, 才在標題顯示預測結果\n",
    "        if( len(predictions) > 0 ) :\n",
    "            title = 'ai = ' + str(predictions[i])\n",
    "            # 預測正確顯示(o), 錯誤顯示(x)\n",
    "            title += (' (o)' if predictions[i]==labels[i] else ' (x)')\n",
    "            title += '\\nlabel = ' + str(labels[i])\n",
    "        # 沒有 AI 預測結果資料, 只在標題顯示真實數值\n",
    "        else :\n",
    "            title = 'label = ' + str(labels[i])\n",
    "\n",
    "        # X, Y 軸不顯示刻度\n",
    "        ax.set_title(title,fontsize=12)\n",
    "        ax.set_xticks([]);ax.set_yticks([])\n",
    "        start_id+=1\n",
    "    plt.show()"
   ]
  },
  {
   "cell_type": "code",
   "execution_count": 4,
   "id": "c512cfd7",
   "metadata": {},
   "outputs": [],
   "source": [
    "import glob, cv2\n",
    "files = glob.glob('YourData') # Recommend Type: 'imagedata\\*.jpg'\n",
    "test_feature = []\n",
    "test_label = []\n",
    "for file in files:\n",
    "    img = cv2.imread(file)\n",
    "    img = cv2.cvtColor(img, cv2.COLOR_BGR2GRAY) # 灰階\n",
    "    _, img = cv2.threshold(img, 127, 255, cv2.THRESH_BINARY_INV) # 轉為反相黑白\n",
    "    # 反相黑白是一種圖像效果，它會將圖像中的亮區域變成暗區域，將暗區域變成亮區域。\n",
    "    test_feature.append(img)\n",
    "    label = file[10:11] # imagedata\\*.jpg 中第10字元為label 依照你files更改\n",
    "    test_label.append(int(label)\n",
    "                      \n",
    "test_feature = np.array(test_feature) # 串列轉矩陣\n",
    "test_label = np.array(test_label)\n",
    "# Feature 轉成 1 維向量\n",
    "test_feature_vector = test_feature.reshape(len(test_feature), 28*28).astype('float32')\n",
    "# Feature 標準化\n",
    "test_feature_normalize = test_feature_vector/255\n",
    "                      \n",
    "model = load_model('Mnist_mlp_model.h5')\n",
    "predic_x = model.predict(test_feature_normalize)\n",
    "classes_x = np.argmax(predic_x, axis = 1)\n",
    "\n",
    "show_images_labels_predictions(test_feature, test_label, classes_x, 0, len(test_feature))"
   ]
  }
 ],
 "metadata": {
  "kernelspec": {
   "display_name": "Python 3 (ipykernel)",
   "language": "python",
   "name": "python3"
  },
  "language_info": {
   "codemirror_mode": {
    "name": "ipython",
    "version": 3
   },
   "file_extension": ".py",
   "mimetype": "text/x-python",
   "name": "python",
   "nbconvert_exporter": "python",
   "pygments_lexer": "ipython3",
   "version": "3.7.16"
  }
 },
 "nbformat": 4,
 "nbformat_minor": 5
}
