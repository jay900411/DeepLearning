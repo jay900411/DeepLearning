{
 "cells": [
  {
   "cell_type": "code",
   "execution_count": 4,
   "id": "fed41292",
   "metadata": {},
   "outputs": [],
   "source": [
    "import numpy as np\n",
    "import pandas as pd\n",
    "import matplotlib.pylab as plt\n",
    "from keras.utils import np_utils\n",
    "# np.random.seed(10)\n",
    "from keras.datasets import mnist\n",
    "import matplotlib.pylab as plt\n",
    "from keras.models import Sequential # 建立模型\n",
    "from keras.layers import Dense"
   ]
  },
  {
   "cell_type": "code",
   "execution_count": 5,
   "id": "803bb27b",
   "metadata": {},
   "outputs": [],
   "source": [
    "def show_image(image):\n",
    "    fig = plt.gcf()\n",
    "    fig.set_size_inches(2, 2) # 數字圖片的大小\n",
    "    plt.imshow(image, cmap = 'binary') # cmap(colormap)\n",
    "    # cmap='binary' 表示使用二值化的颜色映射\n",
    "    # 這種颜色映射用於將灰度圖像或二進制圖像以黑白形式顯示，其中較亮的部分顯示為白色，較暗的部分顯示為黑色。\n",
    "    plt.show()\n",
    "    \n",
    "def show_images_labels_predictions(images, labels, predictions, start_id, num = 10):\n",
    "    plt.gcf().set_size_inches(12, 14)\n",
    "    if num > 25:num = 25\n",
    "    for i in range(0, num):\n",
    "        ax=plt.subplot(5,5, 1+i)\n",
    "        #顯示黑白圖片\n",
    "        ax.imshow(images[start_id], cmap='binary')\n",
    "\n",
    "        # 有 AI 預測結果資料, 才在標題顯示預測結果\n",
    "        if( len(predictions) > 0 ) :\n",
    "            title = 'ai = ' + str(predictions[i])\n",
    "            # 預測正確顯示(o), 錯誤顯示(x)\n",
    "            title += (' (o)' if predictions[i]==labels[i] else ' (x)')\n",
    "            title += '\\nlabel = ' + str(labels[i])\n",
    "        # 沒有 AI 預測結果資料, 只在標題顯示真實數值\n",
    "        else :\n",
    "            title = 'label = ' + str(labels[i])\n",
    "\n",
    "        # X, Y 軸不顯示刻度\n",
    "        ax.set_title(title,fontsize=12)\n",
    "        ax.set_xticks([]);ax.set_yticks([])\n",
    "        start_id+=1\n",
    "    plt.show()\n",
    "    \n",
    "(train_feature, train_label), (test_feature, test_label) = mnist.load_data()"
   ]
  },
  {
   "cell_type": "code",
   "execution_count": 6,
   "id": "b72bf41a",
   "metadata": {},
   "outputs": [],
   "source": [
    "# Feature 轉成 1 維向量\n",
    "train_feature_vector = train_feature.reshape(len(train_feature), 28*28).astype('float32')\n",
    "test_feature_vector = test_feature.reshape(len(test_feature), 28*28).astype('float32')\n",
    "# Feature 標準化\n",
    "train_feature_normalize = train_feature_vector/255\n",
    "test_feature_normalize = test_feature_vector/255\n",
    "# Label 轉 One-Hot Encoding 編碼\n",
    "train_label_onehot = np_utils.to_categorical(train_label)\n",
    "test_label_onehot = np_utils.to_categorical(test_label)"
   ]
  },
  {
   "cell_type": "markdown",
   "id": "61f428db",
   "metadata": {},
   "source": [
    "# Model"
   ]
  },
  {
   "cell_type": "code",
   "execution_count": 7,
   "id": "990f1f6e",
   "metadata": {},
   "outputs": [
    {
     "name": "stdout",
     "output_type": "stream",
     "text": [
      "Model: \"sequential\"\n",
      "_________________________________________________________________\n",
      " Layer (type)                Output Shape              Param #   \n",
      "=================================================================\n",
      " dense (Dense)               (None, 256)               200960    \n",
      "                                                                 \n",
      " dense_1 (Dense)             (None, 10)                2570      \n",
      "                                                                 \n",
      "=================================================================\n",
      "Total params: 203,530\n",
      "Trainable params: 203,530\n",
      "Non-trainable params: 0\n",
      "_________________________________________________________________\n"
     ]
    },
    {
     "name": "stderr",
     "output_type": "stream",
     "text": [
      "2023-09-14 11:52:16.277296: I tensorflow/core/platform/cpu_feature_guard.cc:193] This TensorFlow binary is optimized with oneAPI Deep Neural Network Library (oneDNN) to use the following CPU instructions in performance-critical operations:  AVX2 FMA\n",
      "To enable them in other operations, rebuild TensorFlow with the appropriate compiler flags.\n"
     ]
    }
   ],
   "source": [
    "model = Sequential()\n",
    "# 輸入層784, 隱藏層256, 輸出層10\n",
    "model.add(Dense(units = 256,\n",
    "         input_dim = 28*28,\n",
    "         kernel_initializer = 'normal',\n",
    "         activation = 'relu'))\n",
    "model.add(Dense(units = 10,\n",
    "         kernel_initializer = 'normal',\n",
    "         activation = 'softmax'))\n",
    "model.summary()"
   ]
  },
  {
   "cell_type": "code",
   "execution_count": 13,
   "id": "833b6567",
   "metadata": {},
   "outputs": [
    {
     "name": "stdout",
     "output_type": "stream",
     "text": [
      "Epoch 1/10\n",
      "WARNING:tensorflow:AutoGraph could not transform <function Model.make_train_function.<locals>.train_function at 0x7f8de81a74d0> and will run it as-is.\n",
      "Please report this to the TensorFlow team. When filing the bug, set the verbosity to 10 (on Linux, `export AUTOGRAPH_VERBOSITY=10`) and attach the full output.\n",
      "Cause: 'arguments' object has no attribute 'posonlyargs'\n",
      "To silence this warning, decorate the function with @tf.autograph.experimental.do_not_convert\n",
      "WARNING: AutoGraph could not transform <function Model.make_train_function.<locals>.train_function at 0x7f8de81a74d0> and will run it as-is.\n",
      "Please report this to the TensorFlow team. When filing the bug, set the verbosity to 10 (on Linux, `export AUTOGRAPH_VERBOSITY=10`) and attach the full output.\n",
      "Cause: 'arguments' object has no attribute 'posonlyargs'\n",
      "To silence this warning, decorate the function with @tf.autograph.experimental.do_not_convert\n",
      "WARNING:tensorflow:AutoGraph could not transform <function Model.make_test_function.<locals>.test_function at 0x7f8df4713200> and will run it as-is.\n",
      "Please report this to the TensorFlow team. When filing the bug, set the verbosity to 10 (on Linux, `export AUTOGRAPH_VERBOSITY=10`) and attach the full output.\n",
      "Cause: 'arguments' object has no attribute 'posonlyargs'\n",
      "To silence this warning, decorate the function with @tf.autograph.experimental.do_not_convert\n",
      "WARNING: AutoGraph could not transform <function Model.make_test_function.<locals>.test_function at 0x7f8df4713200> and will run it as-is.\n",
      "Please report this to the TensorFlow team. When filing the bug, set the verbosity to 10 (on Linux, `export AUTOGRAPH_VERBOSITY=10`) and attach the full output.\n",
      "Cause: 'arguments' object has no attribute 'posonlyargs'\n",
      "To silence this warning, decorate the function with @tf.autograph.experimental.do_not_convert\n",
      "240/240 - 1s - loss: 0.0290 - accuracy: 0.9922 - val_loss: 0.0800 - val_accuracy: 0.9763 - 1s/epoch - 5ms/step\n",
      "Epoch 2/10\n",
      "240/240 - 1s - loss: 0.0229 - accuracy: 0.9944 - val_loss: 0.0774 - val_accuracy: 0.9774 - 646ms/epoch - 3ms/step\n",
      "Epoch 3/10\n",
      "240/240 - 1s - loss: 0.0182 - accuracy: 0.9960 - val_loss: 0.0811 - val_accuracy: 0.9776 - 625ms/epoch - 3ms/step\n",
      "Epoch 4/10\n",
      "240/240 - 1s - loss: 0.0143 - accuracy: 0.9973 - val_loss: 0.0810 - val_accuracy: 0.9772 - 628ms/epoch - 3ms/step\n",
      "Epoch 5/10\n",
      "240/240 - 1s - loss: 0.0117 - accuracy: 0.9979 - val_loss: 0.0813 - val_accuracy: 0.9769 - 620ms/epoch - 3ms/step\n",
      "Epoch 6/10\n",
      "240/240 - 1s - loss: 0.0095 - accuracy: 0.9987 - val_loss: 0.0813 - val_accuracy: 0.9772 - 631ms/epoch - 3ms/step\n",
      "Epoch 7/10\n",
      "240/240 - 1s - loss: 0.0074 - accuracy: 0.9991 - val_loss: 0.0786 - val_accuracy: 0.9778 - 619ms/epoch - 3ms/step\n",
      "Epoch 8/10\n",
      "240/240 - 1s - loss: 0.0060 - accuracy: 0.9993 - val_loss: 0.0839 - val_accuracy: 0.9778 - 631ms/epoch - 3ms/step\n",
      "Epoch 9/10\n",
      "240/240 - 1s - loss: 0.0051 - accuracy: 0.9995 - val_loss: 0.0852 - val_accuracy: 0.9768 - 624ms/epoch - 3ms/step\n",
      "Epoch 10/10\n",
      "240/240 - 1s - loss: 0.0040 - accuracy: 0.9997 - val_loss: 0.0836 - val_accuracy: 0.9794 - 623ms/epoch - 3ms/step\n"
     ]
    }
   ],
   "source": [
    "# 定義訓練方式\n",
    "model.compile(loss = 'categorical_crossentropy',\n",
    "             optimizer = 'adam', metrics = ['accuracy'])\n",
    "train_history = model.fit(x = train_feature_normalize,\n",
    "                         y = train_label_onehot,\n",
    "                         validation_split = 0.2,\n",
    "                         epochs = 10, batch_size = 200, verbose = 2)\n",
    "# verbose 是否顯示訓練過程 0不顯示 1詳細顯示 2簡易顯示 "
   ]
  },
  {
   "cell_type": "code",
   "execution_count": 14,
   "id": "27f6d466",
   "metadata": {},
   "outputs": [
    {
     "name": "stdout",
     "output_type": "stream",
     "text": [
      "WARNING:tensorflow:AutoGraph could not transform <function Model.make_predict_function.<locals>.predict_function at 0x7f8df4fe79e0> and will run it as-is.\n",
      "Please report this to the TensorFlow team. When filing the bug, set the verbosity to 10 (on Linux, `export AUTOGRAPH_VERBOSITY=10`) and attach the full output.\n",
      "Cause: 'arguments' object has no attribute 'posonlyargs'\n",
      "To silence this warning, decorate the function with @tf.autograph.experimental.do_not_convert\n",
      "WARNING: AutoGraph could not transform <function Model.make_predict_function.<locals>.predict_function at 0x7f8df4fe79e0> and will run it as-is.\n",
      "Please report this to the TensorFlow team. When filing the bug, set the verbosity to 10 (on Linux, `export AUTOGRAPH_VERBOSITY=10`) and attach the full output.\n",
      "Cause: 'arguments' object has no attribute 'posonlyargs'\n",
      "To silence this warning, decorate the function with @tf.autograph.experimental.do_not_convert\n",
      "313/313 [==============================] - 0s 962us/step\n"
     ]
    },
    {
     "data": {
      "image/png": "[encoded data removed]",
      "text/plain": [
       "<Figure size 1200x1400 with 10 Axes>"
      ]
     },
     "metadata": {},
     "output_type": "display_data"
    }
   ],
   "source": [
    "predic_x = model.predict(test_feature_normalize)\n",
    "classes_x = np.argmax(predic_x, axis = 1)\n",
    "\n",
    "show_images_labels_predictions(test_feature, test_label, classes_x, 0)\n",
    "\n",
    "# prediction= model.predict_classes(test_feature_normalize)\n",
    "\n",
    "# show_images_labels_predictions(test_feature, test_label, prediction, 0)\n",
    "# 第二個程式碼塊首先獲得原始概率分佈，然後從中提取類別索引，而第一個程式碼塊直接獲得類別索引。\n",
    "# 注意：在TensorFlow 2.0及以後的版本中，predict_classes 方法已被廢棄\n",
    "# 建議使用第一個程式碼塊中的方法，即使用 predict 方法和 np.argmax 來獲得類別\n",
    "# 因為 predict_classes 在未來版本中可能會被移除，而 np.argmax 在不同版本中都可用。\n",
    "\n",
    "# model.save('Mnist_mlp_model.h5')"
   ]
  },
  {
   "cell_type": "code",
   "execution_count": 15,
   "id": "b043eb37",
   "metadata": {},
   "outputs": [],
   "source": [
    "model.save('Mnist_mlp_model.h5')"
   ]
  }
 ],
 "metadata": {
  "kernelspec": {
   "display_name": "Python 3 (ipykernel)",
   "language": "python",
   "name": "python3"
  },
  "language_info": {
   "codemirror_mode": {
    "name": "ipython",
    "version": 3
   },
   "file_extension": ".py",
   "mimetype": "text/x-python",
   "name": "python",
   "nbconvert_exporter": "python",
   "pygments_lexer": "ipython3",
   "version": "3.7.16"
  }
 },
 "nbformat": 4,
 "nbformat_minor": 5
}
